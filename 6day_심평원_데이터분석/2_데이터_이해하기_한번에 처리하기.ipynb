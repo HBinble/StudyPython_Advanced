{
 "cells": [
  {
   "cell_type": "code",
   "execution_count": 3,
   "metadata": {},
   "outputs": [],
   "source": [
    "import pandas as pd"
   ]
  },
  {
   "cell_type": "code",
   "execution_count": 5,
   "metadata": {},
   "outputs": [],
   "source": [
    "# 참고로 : [변수명]은 문자열처럼 [포맷 처리가 안됩니다.]\n",
    "\n",
    "# 4개 데이터 기준값\n",
    "nm_list = [\"20\", \"30\", \"40\", \"53\"]\n",
    "\n",
    "# 4개 엑셀 시트 기준값\n",
    "sheet_list = [\"20table_명세서일반내역\",\n",
    "              \"30table_진료내역\",\n",
    "              \"40table_상병\",\n",
    "              \"53table_처방전상세내역\"]\n",
    "\n",
    "# 4개 데이터 프레임 저장\n",
    "df_dict = {}\n",
    "\n",
    "# 4개의 시트 조회값 저장\n",
    "df_col_dict = {}"
   ]
  },
  {
   "cell_type": "code",
   "execution_count": 69,
   "metadata": {},
   "outputs": [],
   "source": [
    "nm_list = [\"20\", \"30\", \"40\", \"53\"]\n",
    "\n",
    "sheet_list = [\"20table_명세서일반내역\",\n",
    "              \"30table_진료내역\",\n",
    "              \"40table_상병\",\n",
    "              \"53table_처방전상세내역\"]\n",
    "df_dict = {}\n",
    "df_col_dict = {}\n",
    "\n",
    "file_path = \"./files_org/표본자료 변수 테이블(2012-2013).xlsx\"\n",
    "\n",
    "for i in range(0, len(nm_list),1) :\n",
    "    df_dict[nm_list[i]] = pd.read_csv(\"./files_org/SAMPLE_DB_{}TABLE_2013.txt\".format(nm_list[i]), \n",
    "                                      sep=\",\")\n",
    "    df_col_dict[nm_list[i]] = pd.read_excel(file_path, sheet_name = sheet_list[i], \n",
    "                                            usecols=\"A, D\")\n",
    "    new_dict = {}\n",
    "    # {20 : 20의 dataframe, 30 : 30의 dataframe ...}\n",
    "\n",
    "    for j in range(0, len(df_col_dict[nm_list[i]])) :\n",
    "        new_dict[df_col_dict[nm_list[i]].to_dict(\"records\")[j][\"변수명\"]] = \\\n",
    "                df_col_dict[nm_list[i]].to_dict(\"records\")[j][\"표준한글컬럼명\"]\n",
    "    \n",
    "    df_dict[nm_list[i]].rename(columns = new_dict).to_excel(\n",
    "        \"./files_new2/df_kor_{}.xlsx\".format(sheet_list[i]),\n",
    "        index=False\n",
    "    )\n"
   ]
  },
  {
   "cell_type": "code",
   "execution_count": 4,
   "metadata": {},
   "outputs": [
    {
     "name": "stderr",
     "output_type": "stream",
     "text": [
      "C:\\Users\\admin\\AppData\\Local\\Temp\\ipykernel_9992\\3591132278.py:31: FutureWarning: Using short name for 'orient' is deprecated. Only the options: ('dict', list, 'series', 'split', 'records', 'index') will be used in a future version. Use one of the above to silence this warning.\n",
      "  df_20TABLE_col_list = df_20TABLE_col.to_dict(\"recodes\")\n",
      "C:\\Users\\admin\\AppData\\Local\\Temp\\ipykernel_9992\\3591132278.py:38: FutureWarning: Using short name for 'orient' is deprecated. Only the options: ('dict', list, 'series', 'split', 'records', 'index') will be used in a future version. Use one of the above to silence this warning.\n",
      "  df_30TABLE_col_list = df_30TABLE_col.to_dict(\"recodes\")\n",
      "C:\\Users\\admin\\AppData\\Local\\Temp\\ipykernel_9992\\3591132278.py:45: FutureWarning: Using short name for 'orient' is deprecated. Only the options: ('dict', list, 'series', 'split', 'records', 'index') will be used in a future version. Use one of the above to silence this warning.\n",
      "  df_40TABLE_col_list = df_40TABLE_col.to_dict(\"recodes\")\n",
      "C:\\Users\\admin\\AppData\\Local\\Temp\\ipykernel_9992\\3591132278.py:52: FutureWarning: Using short name for 'orient' is deprecated. Only the options: ('dict', list, 'series', 'split', 'records', 'index') will be used in a future version. Use one of the above to silence this warning.\n",
      "  df_53TABLE_col_list = df_53TABLE_col.to_dict(\"recodes\")\n"
     ]
    }
   ],
   "source": [
    "# 데이터 처리 모두 불러오기\n",
    "\n",
    "# file 불러오기\n",
    "file_path = \"./files_org/SAMPLE_DB_20TABLE_2013.txt\"\n",
    "df_20TABLE = pd.read_csv(file_path, sep=\",\")\n",
    "file_path = \"./files_org/SAMPLE_DB_30TABLE_2013.txt\"\n",
    "df_30TABLE = pd.read_csv(file_path, sep=\",\")\n",
    "file_path = \"./files_org/SAMPLE_DB_40TABLE_2013.txt\"\n",
    "df_40TABLE = pd.read_csv(file_path, sep=\",\")\n",
    "file_path = \"./files_org/SAMPLE_DB_53TABLE_2013.txt\"\n",
    "df_53TABLE = pd.read_csv(file_path, sep=\",\")\n",
    "\n",
    "# file_col 불러오기\n",
    "file_path = \"./files_org/표본자료 변수 테이블(2012-2013).xlsx\"\n",
    "df_20TABLE_col = pd.read_excel(file_path,                    \n",
    "                               sheet_name = \"20table_명세서일반내역\",\n",
    "                               usecols=\"A, D\")\n",
    "file_path = \"./files_org/표본자료 변수 테이블(2012-2013).xlsx\"\n",
    "df_30TABLE_col = pd.read_excel(file_path,                    \n",
    "                               sheet_name = \"30table_진료내역\",\n",
    "                               usecols=\"A, D\")\n",
    "file_path = \"./files_org/표본자료 변수 테이블(2012-2013).xlsx\"\n",
    "df_40TABLE_col = pd.read_excel(file_path,                    \n",
    "                               sheet_name = \"40table_상병\",\n",
    "                               usecols=\"A, D\")\n",
    "file_path = \"./files_org/표본자료 변수 테이블(2012-2013).xlsx\"\n",
    "df_53TABLE_col = pd.read_excel(file_path,                    \n",
    "                               sheet_name = \"53table_처방전상세내역\",\n",
    "                               usecols=\"A, D\")\n",
    "\n",
    "\n",
    "# 데이터프레임을 딕셔너리로 변환 후 key:values값 지정\n",
    "df_20TABLE_col_list = df_20TABLE_col.to_dict(\"recodes\")\n",
    "new_dict_20 = {}\n",
    "for dict_kv in df_20TABLE_col_list :\n",
    "    new_dict_20[dict_kv[\"변수명\"]] = dict_kv[\"표준한글컬럼명\"]\n",
    "df_20TABLE_kor = df_20TABLE.rename(columns = new_dict_20)\n",
    "df_20TABLE_kor\n",
    "\n",
    "df_30TABLE_col_list = df_30TABLE_col.to_dict(\"recodes\")\n",
    "new_dict_30 = {}\n",
    "for dict_kv in df_30TABLE_col_list :\n",
    "    new_dict_30[dict_kv[\"변수명\"]] = dict_kv[\"표준한글컬럼명\"]\n",
    "df_30TABLE_kor = df_30TABLE.rename(columns = new_dict_30)\n",
    "df_30TABLE_kor\n",
    "\n",
    "df_40TABLE_col_list = df_40TABLE_col.to_dict(\"recodes\")\n",
    "new_dict_40 = {}\n",
    "for dict_kv in df_40TABLE_col_list :\n",
    "    new_dict_40[dict_kv[\"변수명\"]] = dict_kv[\"표준한글컬럼명\"]\n",
    "df_40TABLE_kor = df_40TABLE.rename(columns = new_dict_40)\n",
    "df_40TABLE_kor\n",
    "\n",
    "df_53TABLE_col_list = df_53TABLE_col.to_dict(\"recodes\")\n",
    "new_dict_53 = {}\n",
    "for dict_kv in df_53TABLE_col_list :\n",
    "    new_dict_53[dict_kv[\"변수명\"]] = dict_kv[\"표준한글컬럼명\"]\n",
    "df_53TABLE_kor = df_53TABLE.rename(columns = new_dict_53)\n",
    "df_53TABLE_kor\n",
    "\n",
    "# 엑셀파일 저장\n",
    "df_20TABLE_kor.to_excel(\"./files_new2/df_20TABLE_kor_명세서일반내역.xlsx\", index=False)\n",
    "df_30TABLE_kor.to_excel(\"./files_new2/df_30TABLE_kor_진료내역.xlsx\", index=False)\n",
    "df_40TABLE_kor.to_excel(\"./files_new2/df_40TABLE_kor_상병.xlsx\", index=False)\n",
    "df_53TABLE_kor.to_excel(\"./files_new2/df_53TABLE_kor_처방전상세내역.xlsx\", index=False)"
   ]
  }
 ],
 "metadata": {
  "kernelspec": {
   "display_name": "Python 3.9.12 64-bit",
   "language": "python",
   "name": "python3"
  },
  "language_info": {
   "codemirror_mode": {
    "name": "ipython",
    "version": 3
   },
   "file_extension": ".py",
   "mimetype": "text/x-python",
   "name": "python",
   "nbconvert_exporter": "python",
   "pygments_lexer": "ipython3",
   "version": "3.9.12"
  },
  "orig_nbformat": 4,
  "vscode": {
   "interpreter": {
    "hash": "38ae1ba9371524da054e8e3fbefd778d16b5a8ac7937a3f395010f627bb73919"
   }
  }
 },
 "nbformat": 4,
 "nbformat_minor": 2
}
