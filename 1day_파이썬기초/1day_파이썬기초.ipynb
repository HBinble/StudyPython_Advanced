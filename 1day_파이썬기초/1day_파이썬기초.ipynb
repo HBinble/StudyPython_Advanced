{
 "cells": [
  {
   "cell_type": "markdown",
   "id": "b5a8a1a1",
   "metadata": {},
   "source": [
    "### 파이썬기초"
   ]
  },
  {
   "cell_type": "code",
   "execution_count": 1,
   "id": "32a3abd7",
   "metadata": {},
   "outputs": [
    {
     "data": {
      "text/plain": [
       "'\\n[문제]\\ndict_val이라는 딕셔너리 변수에\\n아래값을 넣기\\na키에는 리스트 \"aa\", \"bb\", \"cc\" 넣기\\nb키에는 리스트 \"a\", \"b\", \"c \" 넣기\\n\\ndict_val에 들어있는 키값에 대한 리스트 출력하기\\n\\n'"
      ]
     },
     "execution_count": 1,
     "metadata": {},
     "output_type": "execute_result"
    }
   ],
   "source": [
    "\"\"\"\n",
    "[문제]\n",
    "dict_val이라는 딕셔너리 변수에\n",
    "아래값을 넣기\n",
    "a키에는 리스트 \"aa\", \"bb\", \"cc\" 넣기\n",
    "b키에는 리스트 \"a\", \"b\", \"c \" 넣기\n",
    "\n",
    "dict_val에 들어있는 키값에 대한 리스트 출력하기\n",
    "\n",
    "\"\"\""
   ]
  },
  {
   "cell_type": "code",
   "execution_count": 2,
   "id": "614ad2c7",
   "metadata": {},
   "outputs": [],
   "source": [
    "dict_val = {\"a\" : [\"aa\", \"bb\", \"cc\"],\n",
    "            \"b\" : [\"a\", \"b\", \"c \"]}"
   ]
  },
  {
   "cell_type": "code",
   "execution_count": 3,
   "id": "f250e663",
   "metadata": {},
   "outputs": [
    {
     "name": "stdout",
     "output_type": "stream",
     "text": [
      "['aa', 'bb', 'cc']\n",
      "['a', 'b', 'c ']\n"
     ]
    }
   ],
   "source": [
    "print(dict_val[\"a\"])\n",
    "print(dict_val[\"b\"])"
   ]
  },
  {
   "cell_type": "code",
   "execution_count": 4,
   "id": "511ff899",
   "metadata": {
    "scrolled": true
   },
   "outputs": [
    {
     "data": {
      "text/plain": [
       "{'a': ['aa', 'bb', 'cc'], 'b': ['a', 'b', 'c ']}"
      ]
     },
     "execution_count": 4,
     "metadata": {},
     "output_type": "execute_result"
    }
   ],
   "source": [
    "dict_val"
   ]
  },
  {
   "cell_type": "code",
   "execution_count": 5,
   "id": "3b85eef4",
   "metadata": {
    "scrolled": true
   },
   "outputs": [
    {
     "name": "stdout",
     "output_type": "stream",
     "text": [
      "['aa', 'bb', 'cc']\n",
      "['a', 'b', 'c ']\n"
     ]
    }
   ],
   "source": [
    "for k in dict_val:\n",
    "    print(dict_val[k])"
   ]
  },
  {
   "cell_type": "code",
   "execution_count": 6,
   "id": "ac0a24a2",
   "metadata": {},
   "outputs": [
    {
     "name": "stdout",
     "output_type": "stream",
     "text": [
      "['aa', 'bb', 'cc']\n",
      "aa\n",
      "bb\n",
      "cc\n",
      "aa\n",
      "bb\n",
      "cc\n",
      "aa\n",
      "bb\n",
      "cc\n",
      "aa\n",
      "bb\n",
      "cc\n",
      "['a', 'b', 'c ']\n",
      "a\n",
      "b\n",
      "c \n",
      "a\n",
      "b\n",
      "c \n",
      "a\n",
      "b\n",
      "c \n",
      "a\n",
      "b\n",
      "c \n"
     ]
    }
   ],
   "source": [
    "for k in dict_val :\n",
    "    # key의 값 가지고 오기\n",
    "    print(dict_val[k])\n",
    "    # 변수를 이용해 리스트 생성\n",
    "    list_val = dict_val[k]\n",
    "    # 리스트의 값을 이용하는 방식\n",
    "    for val in dict_val[k] :\n",
    "        print(val)\n",
    "    # 리스트의 인덱스번호를 이용하는 방식\n",
    "    for i in range(0, len(dict_val[k])) :\n",
    "        print(dict_val[k][i])\n",
    "    # 생성된 리스트의 값을 이용하는 방식\n",
    "    for val in list_val :\n",
    "        print(val)\n",
    "    # 생성된 리스트의 인덱스를 이용하는 방식\n",
    "    for i in range(0, len(list_val)) :\n",
    "        print(list_val[i])"
   ]
  },
  {
   "cell_type": "code",
   "execution_count": 7,
   "id": "3e0c66be",
   "metadata": {},
   "outputs": [
    {
     "name": "stdout",
     "output_type": "stream",
     "text": [
      "a ['aa', 'bb', 'cc']\n",
      "b ['a', 'b', 'c ']\n"
     ]
    }
   ],
   "source": [
    "for k in dict_val:\n",
    "    print(k, dict_val[k])"
   ]
  },
  {
   "cell_type": "code",
   "execution_count": 8,
   "id": "8995c48a",
   "metadata": {},
   "outputs": [
    {
     "name": "stdout",
     "output_type": "stream",
     "text": [
      "a ['aa', 'bb', 'cc']\n",
      "b ['a', 'b', 'c ']\n"
     ]
    }
   ],
   "source": [
    "for k, v in dict_val.items():\n",
    "    print(k,v)"
   ]
  },
  {
   "cell_type": "code",
   "execution_count": 9,
   "id": "be02c997",
   "metadata": {
    "scrolled": true
   },
   "outputs": [
    {
     "name": "stdout",
     "output_type": "stream",
     "text": [
      "a\n",
      "b\n"
     ]
    }
   ],
   "source": [
    "for k in dict_val.keys():\n",
    "    print(k)"
   ]
  },
  {
   "cell_type": "code",
   "execution_count": 10,
   "id": "28ceb6ea",
   "metadata": {
    "scrolled": true
   },
   "outputs": [
    {
     "name": "stdout",
     "output_type": "stream",
     "text": [
      "['aa', 'bb', 'cc']\n",
      "['a', 'b', 'c ']\n"
     ]
    }
   ],
   "source": [
    "for v in dict_val.values():\n",
    "    print(v)"
   ]
  },
  {
   "cell_type": "code",
   "execution_count": 11,
   "id": "d80ad786",
   "metadata": {},
   "outputs": [
    {
     "data": {
      "text/plain": [
       "'\\nlist_val 이라는 리스트 변수에 딕셔너리 값을 넣겠습니다.\\n첫번째 리스트에는 a키, 값은 리스트 \"aa\", \"bb\", \"cc\" 넣기\\n두번째 리스트에는 b키. 값은 리스트 \"a\", \"b\", \"c \" 넣기\\n'"
      ]
     },
     "execution_count": 11,
     "metadata": {},
     "output_type": "execute_result"
    }
   ],
   "source": [
    "\"\"\"\n",
    "list_val 이라는 리스트 변수에 딕셔너리 값을 넣겠습니다.\n",
    "첫번째 리스트에는 a키, 값은 리스트 \"aa\", \"bb\", \"cc\" 넣기\n",
    "두번째 리스트에는 b키. 값은 리스트 \"a\", \"b\", \"c \" 넣기\n",
    "\"\"\""
   ]
  },
  {
   "cell_type": "code",
   "execution_count": 12,
   "id": "590dd317",
   "metadata": {},
   "outputs": [
    {
     "data": {
      "text/plain": [
       "[{'a': ['aa', 'bb', 'cc']}, {'b': ['a', 'b', 'c ']}]"
      ]
     },
     "execution_count": 12,
     "metadata": {},
     "output_type": "execute_result"
    }
   ],
   "source": [
    "list_val = [{\"a\" : [\"aa\", \"bb\", \"cc\"]},\n",
    "            {\"b\" : [\"a\", \"b\", \"c \"]}]\n",
    "list_val"
   ]
  },
  {
   "cell_type": "code",
   "execution_count": 13,
   "id": "a01a0d5e",
   "metadata": {},
   "outputs": [
    {
     "data": {
      "text/plain": [
       "[{'a': ['aa', 'bb', 'cc']}, {'b': ['a', 'b', 'c ']}]"
      ]
     },
     "execution_count": 13,
     "metadata": {},
     "output_type": "execute_result"
    }
   ],
   "source": [
    "dict1 = {\"a\" : [\"aa\", \"bb\", \"cc\"]}\n",
    "dict2 = {\"b\" : [\"a\", \"b\", \"c \"]}\n",
    "list_val2 = [dict1, dict2]\n",
    "list_val2"
   ]
  },
  {
   "cell_type": "code",
   "execution_count": 14,
   "id": "43b0808a",
   "metadata": {},
   "outputs": [],
   "source": [
    "# list_val에 들어있는 딕셔너리의 키에 대응하는 값들을 모두 출력해 주세요."
   ]
  },
  {
   "cell_type": "code",
   "execution_count": 15,
   "id": "27c8b06e",
   "metadata": {},
   "outputs": [
    {
     "name": "stdout",
     "output_type": "stream",
     "text": [
      "{'a': ['aa', 'bb', 'cc']}\n",
      "['aa', 'bb', 'cc']\n",
      "aa\n",
      "bb\n",
      "cc\n",
      "{'b': ['a', 'b', 'c ']}\n",
      "['a', 'b', 'c ']\n",
      "a\n",
      "b\n",
      "c \n"
     ]
    }
   ],
   "source": [
    "for d in list_val:\n",
    "    print(d)\n",
    "    \n",
    "    for k in d:\n",
    "        print(d[k])\n",
    "        \n",
    "        for v in d[k]:\n",
    "            print(v)"
   ]
  },
  {
   "cell_type": "code",
   "execution_count": 16,
   "id": "c89f91b9",
   "metadata": {
    "scrolled": true
   },
   "outputs": [],
   "source": [
    "# 위에 list_val에 들어있는 딕셔너리의 대응하는 값 중에 \n",
    "# \"b\"라는 단어가 들어 있으면 해당 키에 대응하는 값을\n",
    "# list_temp 라는 리스트변수에 담아주세요\n",
    "# list_temp에 값이 잘 담겨있는지 출력하기.."
   ]
  },
  {
   "cell_type": "code",
   "execution_count": 17,
   "id": "04304ea5",
   "metadata": {},
   "outputs": [
    {
     "name": "stdout",
     "output_type": "stream",
     "text": [
      "{'a': ['aa', 'bb', 'cc']}\n",
      "['aa', 'bb', 'cc']\n",
      "aa\n",
      "False\n",
      "bb\n",
      "True\n",
      "cc\n",
      "False\n",
      "{'b': ['a', 'b', 'c ']}\n",
      "['a', 'b', 'c ']\n",
      "a\n",
      "False\n",
      "b\n",
      "True\n",
      "c \n",
      "False\n"
     ]
    },
    {
     "data": {
      "text/plain": [
       "['bb', 'b']"
      ]
     },
     "execution_count": 17,
     "metadata": {},
     "output_type": "execute_result"
    }
   ],
   "source": [
    "list_temp = []\n",
    "for d in list_val:\n",
    "    print(d)\n",
    "    \n",
    "    for k in d:\n",
    "        print(d[k])\n",
    "        \n",
    "        for v in d[k]:\n",
    "            print(v)\n",
    "            # print(\"------------\")\n",
    "            # print(v[0])\n",
    "            # print(\"------------\")\n",
    "            # if v[0] == \"b\":\n",
    "            #     list_temp.append(v)\n",
    "            print(v.find(\"b\") >= 0)\n",
    "            if v.find(\"b\") >= 0 :\n",
    "                list_temp.append(v)\n",
    "list_temp\n",
    "                "
   ]
  },
  {
   "cell_type": "code",
   "execution_count": 18,
   "id": "c0b76b0c",
   "metadata": {},
   "outputs": [
    {
     "data": {
      "text/plain": [
       "[{'a': ['aa', 'bb', 'cc']}, {'b': ['a', 'b', 'c ']}]"
      ]
     },
     "execution_count": 18,
     "metadata": {},
     "output_type": "execute_result"
    }
   ],
   "source": [
    "list_val"
   ]
  },
  {
   "cell_type": "code",
   "execution_count": 19,
   "id": "c3f119a6",
   "metadata": {},
   "outputs": [
    {
     "data": {
      "text/plain": [
       "2"
      ]
     },
     "execution_count": 19,
     "metadata": {},
     "output_type": "execute_result"
    }
   ],
   "source": [
    "len(list_val) # 리스트 안에 있는 갯수"
   ]
  },
  {
   "cell_type": "code",
   "execution_count": 20,
   "id": "85942983",
   "metadata": {},
   "outputs": [],
   "source": [
    "for i in range(0, len(list_val)): # index 사용\n",
    "    list_val[i]"
   ]
  },
  {
   "cell_type": "code",
   "execution_count": 21,
   "id": "d449ce22",
   "metadata": {},
   "outputs": [],
   "source": [
    "for v in list_val: # 값(value) 사용\n",
    "    v"
   ]
  }
 ],
 "metadata": {
  "interpreter": {
   "hash": "38ae1ba9371524da054e8e3fbefd778d16b5a8ac7937a3f395010f627bb73919"
  },
  "kernelspec": {
   "display_name": "Python 3.9.12 64-bit",
   "language": "python",
   "name": "python3"
  },
  "language_info": {
   "codemirror_mode": {
    "name": "ipython",
    "version": 3
   },
   "file_extension": ".py",
   "mimetype": "text/x-python",
   "name": "python",
   "nbconvert_exporter": "python",
   "pygments_lexer": "ipython3",
   "version": "3.9.12"
  }
 },
 "nbformat": 4,
 "nbformat_minor": 5
}
